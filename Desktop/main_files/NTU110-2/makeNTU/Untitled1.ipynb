{
 "cells": [
  {
   "cell_type": "code",
   "execution_count": 56,
   "id": "c832b944",
   "metadata": {},
   "outputs": [
    {
     "name": "stdout",
     "output_type": "stream",
     "text": [
      "(34, 660)\n",
      "(34, 660)\n",
      "(34, 660)\n"
     ]
    }
   ],
   "source": [
    "import numpy as np\n",
    "import pandas as pd\n",
    "\n",
    "A_sun = pd.read_csv(\"A_sun_time.csv\", header = None).values\n",
    "B_sun = pd.read_csv(\"B_sun_time.csv\", header = None).values\n",
    "F_sun = pd.read_csv(\"F_sun_time.csv\", header = None).values\n",
    "\n",
    "# idx = [14, 15, 16, 17, 20, 21, 25, 26, 30, 31, 32, 33]\n",
    "# F_sun = F_sun[idx, :]\n",
    "\n",
    "print(A_sun.shape)\n",
    "print(B_sun.shape)\n",
    "print(F_sun.shape)"
   ]
  },
  {
   "cell_type": "code",
   "execution_count": 45,
   "id": "80591e56",
   "metadata": {},
   "outputs": [
    {
     "name": "stdout",
     "output_type": "stream",
     "text": [
      "(80, 660)\n"
     ]
    }
   ],
   "source": [
    "tmp_sun = np.concatenate((A_sun, B_sun), axis=0)\n",
    "total_sun = np.concatenate((tmp_sun, F_sun), axis=0)\n",
    "print(total_sun.shape)"
   ]
  },
  {
   "cell_type": "code",
   "execution_count": 46,
   "id": "f0290cab",
   "metadata": {},
   "outputs": [
    {
     "name": "stdout",
     "output_type": "stream",
     "text": [
      "(52800, 7)\n"
     ]
    }
   ],
   "source": [
    "prev_data = pd.read_csv(\"makeNTU.csv\", header = None).values\n",
    "print(prev_data.shape)"
   ]
  },
  {
   "cell_type": "code",
   "execution_count": 47,
   "id": "1211a70b",
   "metadata": {},
   "outputs": [],
   "source": [
    "total_sun = np.reshape(total_sun, (52800,1))"
   ]
  },
  {
   "cell_type": "code",
   "execution_count": 48,
   "id": "1aedbe36",
   "metadata": {},
   "outputs": [],
   "source": [
    "ans_data = prev_data[:,-1]\n",
    "ans_data = np.reshape(ans_data, (len(ans_data), 1))\n",
    "train_data = prev_data[:,0:-1]"
   ]
  },
  {
   "cell_type": "code",
   "execution_count": 49,
   "id": "c48738ef",
   "metadata": {
    "scrolled": true
   },
   "outputs": [
    {
     "name": "stdout",
     "output_type": "stream",
     "text": [
      "(52800, 8)\n"
     ]
    }
   ],
   "source": [
    "new_data = np.concatenate((train_data, total_sun), axis=1)\n",
    "new_data = np.concatenate((new_data, ans_data), axis=1)\n",
    "print(new_data.shape)"
   ]
  },
  {
   "cell_type": "code",
   "execution_count": 50,
   "id": "ebb43ade",
   "metadata": {},
   "outputs": [],
   "source": [
    "import csv\n",
    "with open(\"makeNTU_new.csv\", 'w', newline='') as csvfile:\n",
    "    writer = csv.writer(csvfile)\n",
    "    for i in new_data:\n",
    "        writer.writerow(i)"
   ]
  },
  {
   "cell_type": "code",
   "execution_count": 59,
   "id": "da090378",
   "metadata": {},
   "outputs": [],
   "source": [
    "A_sun = np.reshape(A_sun, (22440,1))\n",
    "with open(\"A_sun.csv\", 'w', newline='') as csvfile:\n",
    "    writer = csv.writer(csvfile)\n",
    "    for i in A_sun:\n",
    "        writer.writerow(i)"
   ]
  },
  {
   "cell_type": "code",
   "execution_count": 60,
   "id": "a594456d",
   "metadata": {},
   "outputs": [],
   "source": [
    "B_sun = np.reshape(B_sun, (22440,1))\n",
    "with open(\"B_sun.csv\", 'w', newline='') as csvfile:\n",
    "    writer = csv.writer(csvfile)\n",
    "    for i in B_sun:\n",
    "        writer.writerow(i)"
   ]
  },
  {
   "cell_type": "code",
   "execution_count": 61,
   "id": "809132c1",
   "metadata": {},
   "outputs": [],
   "source": [
    "F_sun = np.reshape(F_sun, (22440,1))\n",
    "with open(\"F_sun.csv\", 'w', newline='') as csvfile:\n",
    "    writer = csv.writer(csvfile)\n",
    "    for i in F_sun:\n",
    "        writer.writerow(i)"
   ]
  },
  {
   "cell_type": "code",
   "execution_count": null,
   "id": "8ee91edb",
   "metadata": {},
   "outputs": [],
   "source": []
  }
 ],
 "metadata": {
  "kernelspec": {
   "display_name": "Python 3 (ipykernel)",
   "language": "python",
   "name": "python3"
  },
  "language_info": {
   "codemirror_mode": {
    "name": "ipython",
    "version": 3
   },
   "file_extension": ".py",
   "mimetype": "text/x-python",
   "name": "python",
   "nbconvert_exporter": "python",
   "pygments_lexer": "ipython3",
   "version": "3.9.7"
  }
 },
 "nbformat": 4,
 "nbformat_minor": 5
}
