{
 "cells": [
  {
   "cell_type": "code",
   "execution_count": 3,
   "id": "8aae1b5a",
   "metadata": {},
   "outputs": [
    {
     "name": "stdout",
     "output_type": "stream",
     "text": [
      "札幌\n",
      "東京\n",
      "下關\n"
     ]
    }
   ],
   "source": [
    "# Reference: https://qiita.com/Cyber_Hacnosuke/items/122cec35d299c4d01f10\n",
    "#さっきの\n",
    "place_codeA = [14, 44, 81]\n",
    "place_codeB = [47412, 47662, 47762]\n",
    "place_name = [\"札幌\", \"東京\", \"下關\"]   \n",
    "\n",
    "import requests\n",
    "from bs4 import BeautifulSoup #ダウンロードしてなかったらpipでできるからやってね。\n",
    "import csv\n",
    "\n",
    "# URLで年と月ごとの設定ができるので%sで指定した英数字を埋め込めるようにします。\n",
    "base_url = \"http://www.data.jma.go.jp/obd/stats/etrn/view/hourly_s1.php?prec_no=%s&block_no=%s&year=2022&month=2&day=%s&view=p1\"\n",
    "\n",
    "#取ったデータをfloat型に変えるやつ。(データが取れなかったとき気象庁は\"/\"を埋め込んでいるから0に変える)\n",
    "def str2float(str):\n",
    "  try:\n",
    "    return float(str)\n",
    "  except:\n",
    "    return 0.0\n",
    "\n",
    "\n",
    "if __name__ == \"__main__\":\n",
    "  #都市を網羅します\n",
    "  for place in place_name:\n",
    "    #最終的にデータを集めるリスト (下に書いてある初期値は一行目。つまり、ヘッダー。)\n",
    "#     All_list = [['年月日', '日照時間(h)', '太陽總輻射量（MJ/㎡）']]\n",
    "    All_list = []\n",
    "    print(place)\n",
    "    index = place_name.index(place)\n",
    "    # for文で2007年~2017年までの11回。\n",
    "    for day in range(1,29):\n",
    "        #2つの都市コードと年と月を当てはめる。\n",
    "        r = requests.get(base_url%(place_codeA[index], place_codeB[index], day))\n",
    "        r.encoding = r.apparent_encoding\n",
    "\n",
    "        # まずはサイトごとスクレイピング\n",
    "        soup = BeautifulSoup(r.text)\n",
    "        # findAllで条件に一致するものをすべて抜き出します。\n",
    "        # 今回の条件はtrタグでclassがmtxになってるものです。\n",
    "        rows = soup.findAll('tr',class_='mtx')\n",
    "        # print(rows[8])\n",
    "\n",
    "        # 表の最初の1~4行目はカラム情報なのでスライスする。(indexだから初めは0だよ)\n",
    "        # 【追記】2020/3/11 申し訳ございません。間違えてました。\n",
    "        rows = rows[8:20]\n",
    "\n",
    "        # 1日〜最終日までの１行を網羅し、取得します。\n",
    "        for row in rows:\n",
    "          # 今度はtrのなかのtdをすべて抜き出します\n",
    "          data = row.findAll('td')\n",
    "\n",
    "          #１行の中には様々なデータがあるので全部取り出す。\n",
    "          # ★ポイント\n",
    "          rowData = [] #初期化\n",
    "          rowData.append(str(2022) + \"/\" + str(2) + \"/\" + str(day) + \" \" + str(data[0].string))\n",
    "          rowData.append(str2float(data[10].string))\n",
    "          rowData.append(str2float(data[11].string))\n",
    "\n",
    "          #次の行にデータを追加\n",
    "          All_list.append(rowData)\n",
    "\n",
    "    #都市ごとにデータをファイルを新しく生成して書き出す。(csvファイル形式。名前は都市名)\n",
    "    with open(place + '.csv', 'w', encoding='utf-8') as file:\n",
    "      writer = csv.writer(file, lineterminator='\\n')\n",
    "      writer.writerows(All_list)"
   ]
  },
  {
   "cell_type": "code",
   "execution_count": null,
   "id": "8d988c2f",
   "metadata": {},
   "outputs": [],
   "source": []
  }
 ],
 "metadata": {
  "kernelspec": {
   "display_name": "Python 3 (ipykernel)",
   "language": "python",
   "name": "python3"
  },
  "language_info": {
   "codemirror_mode": {
    "name": "ipython",
    "version": 3
   },
   "file_extension": ".py",
   "mimetype": "text/x-python",
   "name": "python",
   "nbconvert_exporter": "python",
   "pygments_lexer": "ipython3",
   "version": "3.9.7"
  }
 },
 "nbformat": 4,
 "nbformat_minor": 5
}
